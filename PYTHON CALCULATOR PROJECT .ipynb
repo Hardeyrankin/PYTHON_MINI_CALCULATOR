{
 "cells": [
  {
   "cell_type": "markdown",
   "id": "ad0b68ea",
   "metadata": {},
   "source": [
    "## PYTHON PROJECT"
   ]
  },
  {
   "cell_type": "markdown",
   "id": "c01ca746",
   "metadata": {},
   "source": [
    "### CALCULATOR"
   ]
  },
  {
   "cell_type": "code",
   "execution_count": 1,
   "id": "ebcea8d3",
   "metadata": {},
   "outputs": [
    {
     "name": "stdout",
     "output_type": "stream",
     "text": [
      "operations:\n",
      "Enter 'add' for addition\n",
      "Enter 'substract' for substraction\n",
      "Enter 'multiply' for multiplication\n",
      "Enter 'divide' for division\n",
      "Enter 'quit' to end the program\n",
      " add\n",
      "Enter first number: 75\n",
      "Enter second number: 109\n",
      "184.0\n",
      "operations:\n",
      "Enter 'add' for addition\n",
      "Enter 'substract' for substraction\n",
      "Enter 'multiply' for multiplication\n",
      "Enter 'divide' for division\n",
      "Enter 'quit' to end the program\n",
      " quit\n"
     ]
    }
   ],
   "source": [
    "def add(a, b):\n",
    "    return a + b \n",
    "\n",
    "def substract(a, b):\n",
    "    return a - b\n",
    "\n",
    "def multiply(a, b):\n",
    "    return a * b\n",
    "\n",
    "def divide(a, b):\n",
    "    if b == 0:\n",
    "        return \"cannot divide by zero\"\n",
    "    return a / b\n",
    "\n",
    "while True: \n",
    "    print(\"operations:\")\n",
    "    print(\"Enter 'add' for addition\")\n",
    "    print(\"Enter 'substract' for substraction\")\n",
    "    print(\"Enter 'multiply' for multiplication\")\n",
    "    print(\"Enter 'divide' for division\")\n",
    "    print(\"Enter 'quit' to end the program\")\n",
    "    \n",
    "    user_input = input(\" \")\n",
    "    \n",
    "    if user_input == \"quit\":\n",
    "        break\n",
    "    elif user_input in [\"add\", \"substract\", \"multiply\", \"divide\"]:\n",
    "        num_1 = float(input(\"Enter first number: \"))\n",
    "        num_2 = float(input(\"Enter second number: \"))\n",
    "\n",
    "        if user_input == \"add\":\n",
    "            print(add(num_1, num_2))\n",
    "        elif user_input == \"substract\":\n",
    "            print(substract(num_1, num_2))\n",
    "        elif user_input == \"multiply\":\n",
    "            print(multiply(num_1, num_2))\n",
    "        elif user_input == \"divide\":\n",
    "            print(divide(num_1, num_2))\n",
    "        else:\n",
    "            print(\"invalid input\")"
   ]
  }
 ],
 "metadata": {
  "kernelspec": {
   "display_name": "Python 3 (ipykernel)",
   "language": "python",
   "name": "python3"
  },
  "language_info": {
   "codemirror_mode": {
    "name": "ipython",
    "version": 3
   },
   "file_extension": ".py",
   "mimetype": "text/x-python",
   "name": "python",
   "nbconvert_exporter": "python",
   "pygments_lexer": "ipython3",
   "version": "3.11.4"
  }
 },
 "nbformat": 4,
 "nbformat_minor": 5
}
